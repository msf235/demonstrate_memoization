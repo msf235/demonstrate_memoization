{
 "cells": [
  {
   "cell_type": "markdown",
   "metadata": {},
   "source": [
    "## Introduction"
   ]
  },
  {
   "cell_type": "markdown",
   "metadata": {},
   "source": [
    "This script demonstrates my own personal simulation output manager, which I call Model Output Manager or MOM for short."
   ]
  },
  {
   "cell_type": "code",
   "execution_count": 86,
   "metadata": {},
   "outputs": [],
   "source": [
    "import shutil\n",
    "import os\n",
    "import numpy as np\n",
    "import pandas as pd\n",
    "import pickle as pkl\n",
    "\n",
    "import model_output_manager as mom\n",
    "\n",
    "\n",
    "eig = np.linalg.eig"
   ]
  },
  {
   "cell_type": "markdown",
   "metadata": {},
   "source": [
    "## Saving model output"
   ]
  },
  {
   "cell_type": "code",
   "execution_count": 87,
   "metadata": {},
   "outputs": [],
   "source": [
    "# %% Parameters for model\n",
    "seed = 10\n",
    "scale = 5\n",
    "name = \"Testing\"\n",
    "param_matrix = scale * np.eye(3)\n",
    "# Store in a dict\n",
    "table_params = dict(run_name=name, seed=seed, scale=scale)  # Parameters for keeping in a table\n",
    "params = table_params.copy()\n",
    "params['param_matrix'] = param_matrix  # Extra model parameters that can't be stored in a table\n",
    "\n",
    "# %% Using these parameters we create model output\n",
    "def run_model(seed, scale):\n",
    "    np.random.seed(seed)\n",
    "    d = scale * np.random.randn(1000, 1000)\n",
    "    lams, ev = eig(d)\n",
    "    lams = np.sort(lams)[::-1]\n",
    "    output = {\"lam1\": np.real(lams[0])}\n",
    "    return output\n",
    "output = run_model(seed, scale)"
   ]
  },
  {
   "cell_type": "code",
   "execution_count": 88,
   "metadata": {},
   "outputs": [],
   "source": [
    "# Now we want to save the model output and the parameters used to generate it in an organized way.\n",
    "# That's where model_output_manager.save_model comes in.\n",
    "shutil.rmtree(\"test_output\", ignore_errors=True)  # Clear away any output that was there before\n",
    "path = \"test_output/run_log.csv\"  # Path to the table. Note that the table's name is going to be \"run_log.csv\"\n",
    "\n",
    "dirs, ids, output_exists = mom.get_dirs_and_ids_for_run(table_params, path)\n",
    "if len(dirs) == 0:\n",
    "    run_id, run_dir = mom.make_dir_for_run(table_params, path)\n",
    "else:\n",
    "    run_id = ids[0]\n",
    "    run_dir = dirs[0]"
   ]
  },
  {
   "cell_type": "code",
   "execution_count": 89,
   "metadata": {},
   "outputs": [
    {
     "name": "stdout",
     "output_type": "stream",
     "text": [
      "  run_name  seed  scale  run_number\n",
      "0  Testing    10      5           0\n"
     ]
    }
   ],
   "source": [
    "# Here we see that a table has been created with a row that corresponds to table_params \n",
    "table = pd.read_csv(path, index_col=0)\n",
    "print(table)"
   ]
  },
  {
   "cell_type": "code",
   "execution_count": 90,
   "metadata": {},
   "outputs": [
    {
     "name": "stdout",
     "output_type": "stream",
     "text": [
      "['run_log.csv', 'run_0']\n",
      "[]\n"
     ]
    }
   ],
   "source": [
    "# A corresponding folder has also been created, called 'run_0':\n",
    "print(os.listdir('test_output'))\n",
    "# But this folder is currently empty:\n",
    "print(os.listdir('test_output/run_0'))"
   ]
  },
  {
   "cell_type": "code",
   "execution_count": 91,
   "metadata": {},
   "outputs": [
    {
     "name": "stdout",
     "output_type": "stream",
     "text": [
      "['output.pkl']\n"
     ]
    }
   ],
   "source": [
    "# We can now use run_dir to save our output:\n",
    "with open(run_dir/'output.pkl', 'wb') as fid:\n",
    "    pkl.dump(output, fid)\n",
    "print(os.listdir(run_dir))"
   ]
  },
  {
   "cell_type": "code",
   "execution_count": 92,
   "metadata": {},
   "outputs": [
    {
     "name": "stdout",
     "output_type": "stream",
     "text": [
      "  run_name  run_number  scale  seed\n",
      "0  Testing           0      5    10\n",
      "1  Testing           0      5     5\n"
     ]
    }
   ],
   "source": [
    "## Now we create a new run with different parameters. A new row will be added to the table\n",
    "seed = 5\n",
    "scale = 5\n",
    "name = \"Testing\"\n",
    "param_matrix = scale * np.eye(3)\n",
    "table_params = dict(run_name=name, seed=seed, scale=scale)\n",
    "params = table_params.copy()\n",
    "params['param_matrix'] = param_matrix\n",
    "output = run_model(seed, scale)\n",
    "dirs, ids, output_exists = mom.get_dirs_and_ids_for_run(table_params, path)\n",
    "if len(dirs) == 0:\n",
    "    run_id, run_dir = mom.make_dir_for_run(table_params, path)\n",
    "else:\n",
    "    run_id = ids[0]\n",
    "    run_dir = dirs[0]\n",
    "with open(run_dir/'output.pkl', 'wb') as fid:\n",
    "    pkl.dump(output, fid)\n",
    "print(pd.read_csv(path, index_col=0))"
   ]
  },
  {
   "cell_type": "code",
   "execution_count": null,
   "metadata": {},
   "outputs": [],
   "source": []
  },
  {
   "cell_type": "code",
   "execution_count": 93,
   "metadata": {},
   "outputs": [
    {
     "name": "stdout",
     "output_type": "stream",
     "text": [
      "  dummy run_name  run_number  scale  seed\n",
      "0    na  Testing           0      5    10\n",
      "1    na  Testing           0      5     5\n",
      "2     8  Testing           0      5     5\n"
     ]
    }
   ],
   "source": [
    "# Now let's see what happens when we add another parameter to our model. It works by adding np.nan where appropriate.\n",
    "seed = 5\n",
    "scale = 5\n",
    "name = \"Testing\"\n",
    "dummy = 8  # New parameter\n",
    "param_matrix = scale * np.eye(3)\n",
    "table_params = dict(run_name=name, seed=seed, scale=scale, dummy=dummy)\n",
    "params = table_params.copy()\n",
    "params['param_matrix'] = param_matrix\n",
    "output = run_model(seed, scale)\n",
    "dirs, ids, output_exists = mom.get_dirs_and_ids_for_run(table_params, path)\n",
    "if len(dirs) == 0:\n",
    "    run_id, run_dir = mom.make_dir_for_run(table_params, path)\n",
    "else:\n",
    "    run_id = ids[0]\n",
    "    run_dir = dirs[0]\n",
    "with open(run_dir/'output.pkl', 'wb') as fid:\n",
    "    pkl.dump(output, fid)\n",
    "print(pd.read_csv(path, index_col=0))\n"
   ]
  },
  {
   "cell_type": "code",
   "execution_count": 94,
   "metadata": {},
   "outputs": [
    {
     "name": "stdout",
     "output_type": "stream",
     "text": [
      "  dummy run_name  run_number  scale seed\n",
      "0    na  Testing           0      5   10\n",
      "1    na  Testing           0      5    5\n",
      "2     8  Testing           0      5    5\n",
      "3    na  Testing           0      5   na\n"
     ]
    }
   ],
   "source": [
    "# Now let's see what happens when we try to save model output with less parameters. It is handled gracefully.\n",
    "scale = 5\n",
    "name = \"Testing\"\n",
    "param_matrix = scale * np.eye(3)\n",
    "table_params = dict(run_name=name, scale=scale)\n",
    "params = table_params.copy()\n",
    "params['param_matrix'] = param_matrix\n",
    "output = run_model(seed=0, scale=scale)\n",
    "dirs, ids, output_exists = mom.get_dirs_and_ids_for_run(table_params, path)\n",
    "if len(dirs) == 0:\n",
    "    run_id, run_dir = mom.make_dir_for_run(table_params, path)\n",
    "else:\n",
    "    run_id = ids[0]\n",
    "    run_dir = dirs[0]\n",
    "with open(run_dir/'output.pkl', 'wb') as fid:\n",
    "    pkl.dump(output, fid)\n",
    "print(pd.read_csv(path, index_col=0))\n"
   ]
  },
  {
   "cell_type": "markdown",
   "metadata": {},
   "source": [
    "## Loading model using parameters"
   ]
  },
  {
   "cell_type": "code",
   "execution_count": 96,
   "metadata": {},
   "outputs": [],
   "source": [
    "load_params = dict(run_name='Testing', seed=5, scale=5, dummy=8)  # We want to load a run with these parameter values\n",
    "dirs, ids, output_exists = mom.get_dirs_and_ids_for_run(load_params, path)"
   ]
  },
  {
   "cell_type": "code",
   "execution_count": 97,
   "metadata": {},
   "outputs": [
    {
     "name": "stdout",
     "output_type": "stream",
     "text": [
      "[PosixPath('test_output/run_2')]\n"
     ]
    }
   ],
   "source": [
    "print(dirs) # The directories that match load_params\n",
    "run_dir = dirs[0]"
   ]
  },
  {
   "cell_type": "code",
   "execution_count": 98,
   "metadata": {},
   "outputs": [],
   "source": [
    "# Now load.\n",
    "with open(run_dir/'output.pkl', 'rb') as fid:\n",
    "    output_loaded = pkl.load(fid)"
   ]
  },
  {
   "cell_type": "code",
   "execution_count": 99,
   "metadata": {},
   "outputs": [
    {
     "data": {
      "text/plain": [
       "{'lam1': 160.46450778794286}"
      ]
     },
     "execution_count": 99,
     "metadata": {},
     "output_type": "execute_result"
    }
   ],
   "source": [
    "output_loaded"
   ]
  },
  {
   "cell_type": "code",
   "execution_count": null,
   "metadata": {},
   "outputs": [],
   "source": []
  }
 ],
 "metadata": {
  "kernelspec": {
   "display_name": "Python 3",
   "language": "python",
   "name": "python3"
  },
  "language_info": {
   "codemirror_mode": {
    "name": "ipython",
    "version": 3
   },
   "file_extension": ".py",
   "mimetype": "text/x-python",
   "name": "python",
   "nbconvert_exporter": "python",
   "pygments_lexer": "ipython3",
   "version": "3.8.5"
  }
 },
 "nbformat": 4,
 "nbformat_minor": 1
}
