{
 "cells": [
  {
   "cell_type": "code",
   "execution_count": 17,
   "metadata": {
    "collapsed": true
   },
   "outputs": [],
   "source": [
    "import model_output_manager\n",
    "from collections import OrderedDict\n",
    "import numpy as np\n",
    "import shutil\n",
    "import pandas as pd"
   ]
  },
  {
   "cell_type": "markdown",
   "metadata": {},
   "source": [
    "## Saving model output"
   ]
  },
  {
   "cell_type": "code",
   "execution_count": 18,
   "metadata": {
    "collapsed": true
   },
   "outputs": [],
   "source": [
    "# %% Parameters for model\n",
    "seed = 10\n",
    "scale = 5\n",
    "name = \"Testing\"\n",
    "param_matrix = scale * np.eye(3)\n",
    "# Store in an OrderedDict\n",
    "table_params = OrderedDict(run_name=name, seed=seed, scale=scale)  # Parameters for keeping in a table\n",
    "params = table_params.copy()\n",
    "params['param_matrix'] = param_matrix  # Extra model parameters that can't be stored in a table\n",
    "\n",
    "# %% Using these parameters we create model output\n",
    "def run_model(seed, scale):\n",
    "    np.random.seed(seed)\n",
    "    d = scale * np.random.randn(4, 4)\n",
    "    output = {\"out1\": d}\n",
    "    return output\n",
    "output = run_model(seed, scale)"
   ]
  },
  {
   "cell_type": "code",
   "execution_count": 19,
   "metadata": {},
   "outputs": [
    {
     "name": "stdout",
     "output_type": "stream",
     "text": [
      "\n",
      "Attempting to write data to '/Users/matt/code_projects/demonstrate_memoization/test_output/Testing_0/model_data.h5'\n",
      "\n",
      "Done. Data written.\n"
     ]
    },
    {
     "data": {
      "text/plain": [
       "(0, 'test_output/Testing_0/model_data.h5')"
      ]
     },
     "execution_count": 19,
     "metadata": {},
     "output_type": "execute_result"
    }
   ],
   "source": [
    "# Now we want to save the model output and the parameters used to generate it in an organized way.\n",
    "# That's where model_output_manager.save_model comes in.\n",
    "shutil.rmtree(\"test_output\", ignore_errors=True)  # Clear away any output that was there before\n",
    "path = \"test_output/run_log.csv\"  # Path to the table. Note that the table's name is going to be \"run_log.csv\"\n",
    "model_output_manager.save_model(table_params=table_params, table_path=path, model_output=output, params=params, \n",
    "                                 run_name=name, overwrite_existing=False)"
   ]
  },
  {
   "cell_type": "code",
   "execution_count": 20,
   "metadata": {},
   "outputs": [
    {
     "name": "stdout",
     "output_type": "stream",
     "text": [
      "  run_name  seed  scale  run_number\n",
      "0  Testing    10      5           0\n"
     ]
    }
   ],
   "source": [
    "# Here we see that a table has been created with a row that corresponds to table_params \n",
    "table = pd.read_csv(path, index_col=0)\n",
    "print(table)"
   ]
  },
  {
   "cell_type": "code",
   "execution_count": 21,
   "metadata": {},
   "outputs": [
    {
     "name": "stdout",
     "output_type": "stream",
     "text": [
      "\n",
      "Attempting to write data to '/Users/matt/code_projects/demonstrate_memoization/test_output/Testing_1/model_data.h5'\n",
      "\n",
      "Done. Data written.\n",
      "  run_name  seed  scale  run_number\n",
      "0  Testing    10      5           0\n",
      "1  Testing    10      5           1\n"
     ]
    }
   ],
   "source": [
    "# The parameter 'run_number' is incremented for every run that is duplicated. So if we save the output again,\n",
    "# we'll get a new row with run_number incremented (unless 'overwrite_existing' is set to True, in which case\n",
    "# a new row will not be created).\n",
    "model_output_manager.save_model(table_params=table_params, table_path=path, model_output=output, params=params, \n",
    "                                 run_name=name, overwrite_existing=False)\n",
    "print(pd.read_csv(path, index_col=0))"
   ]
  },
  {
   "cell_type": "code",
   "execution_count": 22,
   "metadata": {},
   "outputs": [
    {
     "name": "stdout",
     "output_type": "stream",
     "text": [
      "\n",
      "Attempting to write data to '/Users/matt/code_projects/demonstrate_memoization/test_output/Testing_2/model_data.h5'\n",
      "\n",
      "Done. Data written.\n",
      "  run_name  seed  scale  run_number\n",
      "0  Testing    10      5           0\n",
      "1  Testing    10      5           1\n",
      "2  Testing     5      5           0\n"
     ]
    }
   ],
   "source": [
    "## Now we create a new run with different parameters. A new row will be added to the table\n",
    "seed = 5\n",
    "scale = 5\n",
    "name = \"Testing\"\n",
    "param_matrix = scale * np.eye(3)\n",
    "table_params = OrderedDict(run_name=name, seed=seed, scale=scale)\n",
    "params = table_params.copy()\n",
    "params['param_matrix'] = param_matrix\n",
    "output = run_model(seed, scale)\n",
    "model_output_manager.save_model(table_params=table_params, table_path=path, model_output=output, params=params, \n",
    "                                 run_name=name, overwrite_existing=True)\n",
    "print(pd.read_csv(path, index_col=0))"
   ]
  },
  {
   "cell_type": "code",
   "execution_count": 23,
   "metadata": {},
   "outputs": [
    {
     "name": "stdout",
     "output_type": "stream",
     "text": [
      "\n",
      "Attempting to write data to '/Users/matt/code_projects/demonstrate_memoization/test_output/Testing_3/model_data.h5'\n",
      "\n",
      "Done. Data written.\n",
      "  run_name  seed  scale  dummy  run_number\n",
      "0  Testing    10      5    NaN           0\n",
      "1  Testing    10      5    NaN           1\n",
      "2  Testing     5      5    NaN           0\n",
      "3  Testing     5      5    8.0           0\n"
     ]
    }
   ],
   "source": [
    "# Now let's see what happens when we add another parameter to our model. It works as you'd expect.\n",
    "seed = 5\n",
    "scale = 5\n",
    "name = \"Testing\"\n",
    "dummy = 8  # New parameter\n",
    "param_matrix = scale * np.eye(3)\n",
    "table_params = OrderedDict(run_name=name, seed=seed, scale=scale, dummy=dummy)\n",
    "params = table_params.copy()\n",
    "params['param_matrix'] = param_matrix\n",
    "output = run_model(seed, scale)\n",
    "model_output_manager.save_model(table_params=table_params, table_path=path, model_output=output, params=params, \n",
    "                                 run_name=name, overwrite_existing=True)\n",
    "print(pd.read_csv(path, index_col=0))\n"
   ]
  },
  {
   "cell_type": "code",
   "execution_count": 24,
   "metadata": {},
   "outputs": [
    {
     "name": "stdout",
     "output_type": "stream",
     "text": [
      "\n",
      "Attempting to write data to '/Users/matt/code_projects/demonstrate_memoization/test_output/Testing_4/model_data.h5'\n",
      "\n",
      "Done. Data written.\n",
      "  run_name  seed  scale  dummy  run_number\n",
      "0  Testing  10.0      5    NaN           0\n",
      "1  Testing  10.0      5    NaN           1\n",
      "2  Testing   5.0      5    NaN           0\n",
      "3  Testing   5.0      5    8.0           0\n",
      "4  Testing   NaN      5    NaN           0\n"
     ]
    }
   ],
   "source": [
    "# Now let's see what happens when we try to save model output with less parameters. It is handled gracefully.\n",
    "scale = 5\n",
    "name = \"Testing\"\n",
    "param_matrix = scale * np.eye(3)\n",
    "table_params = OrderedDict(run_name=name, scale=scale)\n",
    "params = table_params.copy()\n",
    "params['param_matrix'] = param_matrix\n",
    "output = run_model(seed=0, scale=scale)\n",
    "model_output_manager.save_model(table_params=table_params, table_path=path, model_output=output, params=params, \n",
    "                                 run_name=name, overwrite_existing=True)\n",
    "print(pd.read_csv(path, index_col=0))\n"
   ]
  },
  {
   "cell_type": "markdown",
   "metadata": {},
   "source": [
    "## Loading model using parameters"
   ]
  },
  {
   "cell_type": "code",
   "execution_count": 25,
   "metadata": {},
   "outputs": [
    {
     "data": {
      "image/png": "[encoded data removed]",
      "text/plain": [
       "<Figure size 432x288 with 1 Axes>"
      ]
     },
     "metadata": {},
     "output_type": "display_data"
    }
   ],
   "source": [
    "from matplotlib import pyplot as plt\n",
    "plt.imshow(param_matrix)\n",
    "plt.show()"
   ]
  },
  {
   "cell_type": "code",
   "execution_count": 30,
   "metadata": {},
   "outputs": [],
   "source": [
    "load_params = dict(run_name='Testing', seed=5.0, scale=5, dummy=8.0, run_number=0)\n",
    "output, params, run_id = model_output_manager.load_data(load_params, table_path=path)"
   ]
  },
  {
   "cell_type": "code",
   "execution_count": 31,
   "metadata": {},
   "outputs": [
    {
     "data": {
      "text/plain": [
       "{'out1': array([[  2.20613743,  -1.65435076,  12.15385594,  -1.26046065],\n",
       "        [  0.54804921,   7.91240559,  -4.54616202,  -2.95818329],\n",
       "        [  0.93801613,  -1.64934979,  -5.96382306,  -1.02438255],\n",
       "        [ -1.79414474,   3.01735801,  -8.32394265,  -3.50089519]])}"
      ]
     },
     "execution_count": 31,
     "metadata": {},
     "output_type": "execute_result"
    }
   ],
   "source": [
    "output"
   ]
  },
  {
   "cell_type": "code",
   "execution_count": 32,
   "metadata": {},
   "outputs": [
    {
     "data": {
      "text/plain": [
       "{'dummy': 8,\n",
       " 'output_dir': 'test_output/Testing_3',\n",
       " 'param_matrix': array([[ 5.,  0.,  0.],\n",
       "        [ 0.,  5.,  0.],\n",
       "        [ 0.,  0.,  5.]]),\n",
       " 'run_id': 3,\n",
       " 'run_name': 'Testing',\n",
       " 'scale': 5,\n",
       " 'seed': 5,\n",
       " 'table_path': 'test_output/run_log.csv'}"
      ]
     },
     "execution_count": 32,
     "metadata": {},
     "output_type": "execute_result"
    }
   ],
   "source": [
    "params"
   ]
  },
  {
   "cell_type": "code",
   "execution_count": null,
   "metadata": {
    "collapsed": true
   },
   "outputs": [],
   "source": []
  }
 ],
 "metadata": {
  "kernelspec": {
   "display_name": "Python 3",
   "language": "python",
   "name": "python3"
  },
  "language_info": {
   "codemirror_mode": {
    "name": "ipython",
    "version": 3
   },
   "file_extension": ".py",
   "mimetype": "text/x-python",
   "name": "python",
   "nbconvert_exporter": "python",
   "pygments_lexer": "ipython3",
   "version": "3.6.1"
  }
 },
 "nbformat": 4,
 "nbformat_minor": 1
}
