{
 "cells": [
  {
   "cell_type": "markdown",
   "metadata": {},
   "source": [
    "## Introduction"
   ]
  },
  {
   "cell_type": "markdown",
   "metadata": {},
   "source": [
    "This script demonstrates my own personal simulation output manager, which I call Model Output Manager or MOM for short."
   ]
  },
  {
   "cell_type": "code",
   "execution_count": null,
   "metadata": {
    "collapsed": true
   },
   "outputs": [],
   "source": [
    "import model_output_manager as mom\n",
    "from collections import OrderedDict\n",
    "import numpy as np\n",
    "import shutil\n",
    "import pandas as pd\n",
    "eig = np.linalg.eig"
   ]
  },
  {
   "cell_type": "markdown",
   "metadata": {},
   "source": [
    "## Saving model output"
   ]
  },
  {
   "cell_type": "code",
   "execution_count": 33,
   "metadata": {
    "collapsed": true
   },
   "outputs": [],
   "source": [
    "# %% Parameters for model\n",
    "seed = 10\n",
    "scale = 5\n",
    "name = \"Testing\"\n",
    "param_matrix = scale * np.eye(3)\n",
    "# Store in an OrderedDict\n",
    "table_params = OrderedDict(run_name=name, seed=seed, scale=scale)  # Parameters for keeping in a table\n",
    "params = table_params.copy()\n",
    "params['param_matrix'] = param_matrix  # Extra model parameters that can't be stored in a table\n",
    "\n",
    "# %% Using these parameters we create model output\n",
    "def run_model(seed, scale):\n",
    "    np.random.seed(seed)\n",
    "    d = scale * np.random.randn(1000, 1000)\n",
    "    lams, ev = eig(d)\n",
    "    lams = np.sort(lams)[::-1]\n",
    "    output = {\"lam1\": np.real(lams[0])}\n",
    "    return output\n",
    "output = run_model(seed, scale)"
   ]
  },
  {
   "cell_type": "code",
   "execution_count": 34,
   "metadata": {},
   "outputs": [
    {
     "name": "stdout",
     "output_type": "stream",
     "text": [
      "\n",
      "Attempting to write data to '/Users/matt/code_projects/demonstrate_memoization/test_output/Testing_0/model_data.h5'\n",
      "\n",
      "Done. Data written.\n"
     ]
    },
    {
     "data": {
      "text/plain": [
       "(0, 'test_output/Testing_0/model_data.h5')"
      ]
     },
     "execution_count": 34,
     "metadata": {},
     "output_type": "execute_result"
    }
   ],
   "source": [
    "# Now we want to save the model output and the parameters used to generate it in an organized way.\n",
    "# That's where model_output_manager.save_model comes in.\n",
    "shutil.rmtree(\"test_output\", ignore_errors=True)  # Clear away any output that was there before\n",
    "path = \"test_output/run_log.csv\"  # Path to the table. Note that the table's name is going to be \"run_log.csv\"\n",
    "mom.save_model(table_params=table_params, table_path=path, model_output=output, params=params, \n",
    "                                 run_name=name, overwrite_existing=False)"
   ]
  },
  {
   "cell_type": "code",
   "execution_count": 35,
   "metadata": {},
   "outputs": [
    {
     "name": "stdout",
     "output_type": "stream",
     "text": [
      "  run_name  seed  scale  run_number\n",
      "0  Testing    10      5           0\n"
     ]
    }
   ],
   "source": [
    "# Here we see that a table has been created with a row that corresponds to table_params \n",
    "table = pd.read_csv(path, index_col=0)\n",
    "print(table)"
   ]
  },
  {
   "cell_type": "code",
   "execution_count": 36,
   "metadata": {},
   "outputs": [
    {
     "name": "stdout",
     "output_type": "stream",
     "text": [
      "\n",
      "Attempting to write data to '/Users/matt/code_projects/demonstrate_memoization/test_output/Testing_1/model_data.h5'\n",
      "\n",
      "Done. Data written.\n",
      "  run_name  seed  scale  run_number\n",
      "0  Testing    10      5           0\n",
      "1  Testing    10      5           1\n"
     ]
    }
   ],
   "source": [
    "# The parameter 'run_number' is incremented for every run that is duplicated. So if we save the output again,\n",
    "# we'll get a new row with run_number incremented (unless 'overwrite_existing' is set to True, in which case\n",
    "# a new row will not be created).\n",
    "mom.save_model(table_params=table_params, table_path=path, model_output=output, params=params, \n",
    "                                 run_name=name, overwrite_existing=False)\n",
    "print(pd.read_csv(path, index_col=0))"
   ]
  },
  {
   "cell_type": "code",
   "execution_count": 37,
   "metadata": {},
   "outputs": [
    {
     "name": "stdout",
     "output_type": "stream",
     "text": [
      "\n",
      "Attempting to write data to '/Users/matt/code_projects/demonstrate_memoization/test_output/Testing_2/model_data.h5'\n",
      "\n",
      "Done. Data written.\n",
      "  run_name  seed  scale  run_number\n",
      "0  Testing    10      5           0\n",
      "1  Testing    10      5           1\n",
      "2  Testing     5      5           0\n"
     ]
    }
   ],
   "source": [
    "## Now we create a new run with different parameters. A new row will be added to the table\n",
    "seed = 5\n",
    "scale = 5\n",
    "name = \"Testing\"\n",
    "param_matrix = scale * np.eye(3)\n",
    "table_params = OrderedDict(run_name=name, seed=seed, scale=scale)\n",
    "params = table_params.copy()\n",
    "params['param_matrix'] = param_matrix\n",
    "output = run_model(seed, scale)\n",
    "mom.save_model(table_params=table_params, table_path=path, model_output=output, params=params, \n",
    "                                 run_name=name, overwrite_existing=True)\n",
    "print(pd.read_csv(path, index_col=0))"
   ]
  },
  {
   "cell_type": "code",
   "execution_count": 38,
   "metadata": {},
   "outputs": [
    {
     "name": "stdout",
     "output_type": "stream",
     "text": [
      "\n",
      "Attempting to write data to '/Users/matt/code_projects/demonstrate_memoization/test_output/Testing_3/model_data.h5'\n",
      "\n",
      "Done. Data written.\n",
      "  run_name  seed  scale  dummy  run_number\n",
      "0  Testing    10      5    NaN           0\n",
      "1  Testing    10      5    NaN           1\n",
      "2  Testing     5      5    NaN           0\n",
      "3  Testing     5      5    8.0           0\n"
     ]
    }
   ],
   "source": [
    "# Now let's see what happens when we add another parameter to our model. It works as you'd expect.\n",
    "seed = 5\n",
    "scale = 5\n",
    "name = \"Testing\"\n",
    "dummy = 8  # New parameter\n",
    "param_matrix = scale * np.eye(3)\n",
    "table_params = OrderedDict(run_name=name, seed=seed, scale=scale, dummy=dummy)\n",
    "params = table_params.copy()\n",
    "params['param_matrix'] = param_matrix\n",
    "output = run_model(seed, scale)\n",
    "mom.save_model(table_params=table_params, table_path=path, model_output=output, params=params, \n",
    "                                 run_name=name, overwrite_existing=True)\n",
    "print(pd.read_csv(path, index_col=0))\n"
   ]
  },
  {
   "cell_type": "code",
   "execution_count": 39,
   "metadata": {},
   "outputs": [
    {
     "name": "stdout",
     "output_type": "stream",
     "text": [
      "\n",
      "Attempting to write data to '/Users/matt/code_projects/demonstrate_memoization/test_output/Testing_4/model_data.h5'\n",
      "\n",
      "Done. Data written.\n",
      "  run_name  seed  scale  dummy  run_number\n",
      "0  Testing  10.0      5    NaN           0\n",
      "1  Testing  10.0      5    NaN           1\n",
      "2  Testing   5.0      5    NaN           0\n",
      "3  Testing   5.0      5    8.0           0\n",
      "4  Testing   NaN      5    NaN           0\n"
     ]
    }
   ],
   "source": [
    "# Now let's see what happens when we try to save model output with less parameters. It is handled gracefully.\n",
    "scale = 5\n",
    "name = \"Testing\"\n",
    "param_matrix = scale * np.eye(3)\n",
    "table_params = OrderedDict(run_name=name, scale=scale)\n",
    "params = table_params.copy()\n",
    "params['param_matrix'] = param_matrix\n",
    "output = run_model(seed=0, scale=scale)\n",
    "mom.save_model(table_params=table_params, table_path=path, model_output=output, params=params, \n",
    "                                 run_name=name, overwrite_existing=True)\n",
    "print(pd.read_csv(path, index_col=0))\n"
   ]
  },
  {
   "cell_type": "markdown",
   "metadata": {},
   "source": [
    "## Loading model using parameters"
   ]
  },
  {
   "cell_type": "code",
   "execution_count": 40,
   "metadata": {
    "collapsed": true
   },
   "outputs": [],
   "source": [
    "# from matplotlib import pyplot as plt\n",
    "# plt.imshow(param_matrix)\n",
    "# plt.show()"
   ]
  },
  {
   "cell_type": "code",
   "execution_count": 41,
   "metadata": {
    "collapsed": true
   },
   "outputs": [],
   "source": [
    "load_params = dict(run_name='Testing', seed=5.0, scale=5, dummy=8.0, run_number=0)\n",
    "output, params, run_id, run_dir = mom.load_data(load_params, run_name=name, table_path=path)"
   ]
  },
  {
   "cell_type": "code",
   "execution_count": 42,
   "metadata": {},
   "outputs": [
    {
     "data": {
      "text/plain": [
       "{'lam1': 160.46450778794338}"
      ]
     },
     "execution_count": 42,
     "metadata": {},
     "output_type": "execute_result"
    }
   ],
   "source": [
    "output"
   ]
  },
  {
   "cell_type": "code",
   "execution_count": 43,
   "metadata": {},
   "outputs": [
    {
     "data": {
      "text/plain": [
       "{'dummy': 8,\n",
       " 'output_dir': 'test_output/Testing_3',\n",
       " 'param_matrix': array([[ 5.,  0.,  0.],\n",
       "        [ 0.,  5.,  0.],\n",
       "        [ 0.,  0.,  5.]]),\n",
       " 'run_id': 3,\n",
       " 'run_name': 'Testing',\n",
       " 'scale': 5,\n",
       " 'seed': 5,\n",
       " 'table_path': 'test_output/run_log.csv'}"
      ]
     },
     "execution_count": 43,
     "metadata": {},
     "output_type": "execute_result"
    }
   ],
   "source": [
    "params"
   ]
  },
  {
   "cell_type": "markdown",
   "metadata": {
    "collapsed": true
   },
   "source": [
    "## Demonstrate Memoization"
   ]
  },
  {
   "cell_type": "code",
   "execution_count": 44,
   "metadata": {
    "collapsed": true
   },
   "outputs": [],
   "source": [
    "# Now let's see what happens when we try to save model output with less parameters. It is handled gracefully.\n",
    "scale = 5\n",
    "seed = 2\n",
    "name = \"Testing\"\n",
    "table_params = OrderedDict(run_name=name, scale=scale, seed=seed)\n",
    "def run_simulation(arg_dict):\n",
    "    run_exists = model_output_manager.run_with_params_exists(arg_dict, table_path=path)\n",
    "    if run_exists:\n",
    "#         load_params = dict(run_name='Testing', seed=5.0, scale=5, dummy=8.0, run_number=0)\n",
    "        print(\"Loading data\")\n",
    "        output, params, run_id, run_dir = mom.load_data(arg_dict, run_name=name, table_path=path)\n",
    "        return output\n",
    "    else:\n",
    "        print(\"Rerunning\")\n",
    "        param_matrix = scale * np.eye(1000)\n",
    "        params = arg_dict.copy()\n",
    "        params['param_matrix'] = param_matrix\n",
    "        output = run_model(seed=0, scale=scale)\n",
    "        mom.save_model(table_params=arg_dict, table_path=path, model_output=output, params=params, \n",
    "                                         run_name=name, overwrite_existing=True)\n",
    "        return output\n",
    "    "
   ]
  },
  {
   "cell_type": "code",
   "execution_count": 45,
   "metadata": {},
   "outputs": [
    {
     "name": "stdout",
     "output_type": "stream",
     "text": [
      "Rerunning\n",
      "\n",
      "Attempting to write data to '/Users/matt/code_projects/demonstrate_memoization/test_output/Testing_5/model_data.h5'\n",
      "\n",
      "Done. Data written.\n"
     ]
    },
    {
     "data": {
      "text/plain": [
       "{'lam1': 158.73434901080122}"
      ]
     },
     "execution_count": 45,
     "metadata": {},
     "output_type": "execute_result"
    }
   ],
   "source": [
    "# shutil.rmtree(\"test_output\", ignore_errors=True)\n",
    "run_simulation(table_params)"
   ]
  },
  {
   "cell_type": "code",
   "execution_count": 46,
   "metadata": {},
   "outputs": [
    {
     "name": "stdout",
     "output_type": "stream",
     "text": [
      "Loading data\n",
      "  run_name  seed  scale  dummy  run_number\n",
      "0  Testing  10.0      5    NaN           0\n",
      "1  Testing  10.0      5    NaN           1\n",
      "2  Testing   5.0      5    NaN           0\n",
      "3  Testing   5.0      5    8.0           0\n",
      "4  Testing   NaN      5    NaN           0\n",
      "5  Testing   2.0      5    NaN           0\n"
     ]
    }
   ],
   "source": [
    "run_simulation(table_params)\n",
    "print(pd.read_csv(path, index_col=0))"
   ]
  },
  {
   "cell_type": "markdown",
   "metadata": {
    "collapsed": true
   },
   "source": [
    "### Instead of saving and loading via mom.save_model and mom.load_model, you can also just use mom.dir_for_run to create an empty directory that you can then put stuff in via pickle.dump or whatever, i.e. you can let mom handle the output directory management but do the saving and loading from this directory manually."
   ]
  },
  {
   "cell_type": "code",
   "execution_count": null,
   "metadata": {
    "collapsed": true
   },
   "outputs": [],
   "source": []
  }
 ],
 "metadata": {
  "kernelspec": {
   "display_name": "Python 3",
   "language": "python",
   "name": "python3"
  },
  "language_info": {
   "codemirror_mode": {
    "name": "ipython",
    "version": 3
   },
   "file_extension": ".py",
   "mimetype": "text/x-python",
   "name": "python",
   "nbconvert_exporter": "python",
   "pygments_lexer": "ipython3",
   "version": "3.6.1"
  }
 },
 "nbformat": 4,
 "nbformat_minor": 1
}
